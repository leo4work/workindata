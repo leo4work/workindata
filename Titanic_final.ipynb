{
 "cells": [
  {
   "cell_type": "code",
   "execution_count": 76,
   "metadata": {},
   "outputs": [],
   "source": [
    "import pandas as pd\n",
    "import numpy as np\n",
    "import matplotlib.pyplot as plt\n",
    "%matplotlib inline"
   ]
  },
  {
   "cell_type": "markdown",
   "metadata": {},
   "source": [
    "# 1. 目的\n",
    "用简单且强大的LC模型, 尝试二分类预测。\n",
    "\n",
    "- 数据分析\n",
    "- 异常数据处理\n",
    "- 特征选择"
   ]
  },
  {
   "cell_type": "markdown",
   "metadata": {},
   "source": [
    "欢迎加微信交流: ITlooker"
   ]
  },
  {
   "cell_type": "markdown",
   "metadata": {},
   "source": [
    "# 2. 过程\n",
    "## 2.1 数据分析"
   ]
  },
  {
   "cell_type": "markdown",
   "metadata": {},
   "source": [
    "> 字段说明\n",
    "\n",
    "|变量    |定义|  枚举值|\n",
    " | --------   | -----:   | :----: |\n",
    "| survival |   Survival  | 0 = No, 1 = Yes\n",
    "| pclass  |Ticket class |   1 = 1st, 2 = 2nd, 3 = 3rd\n",
    "| sex | Sex  |\n",
    "|Age |Age in years    |\n",
    "|sibsp  | # of siblings / spouses aboard the Titanic  |堂兄弟/妹个数\n",
    "|parch|   # of parents / children aboard the Titanic  |父母与小孩个数\n",
    "|ticket  |Ticket number   |\n",
    "|fare |   Passenger fare  | the money that you pay for a journey in a vehicle \n",
    "|cabin|   Cabin number    | 船舱编号\n",
    "|embarked    |Port of Embarkation C = Cherbourg, Q = Queenstown, S = Southampton| 出发的港口"
   ]
  },
  {
   "cell_type": "code",
   "execution_count": 102,
   "metadata": {},
   "outputs": [
    {
     "name": "stdout",
     "output_type": "stream",
     "text": [
      "<class 'pandas.core.frame.DataFrame'>\n",
      "RangeIndex: 891 entries, 0 to 890\n",
      "Data columns (total 12 columns):\n",
      "PassengerId    891 non-null int64\n",
      "Survived       891 non-null int64\n",
      "Pclass         891 non-null int64\n",
      "Name           891 non-null object\n",
      "Sex            891 non-null object\n",
      "Age            714 non-null float64\n",
      "SibSp          891 non-null int64\n",
      "Parch          891 non-null int64\n",
      "Ticket         891 non-null object\n",
      "Fare           891 non-null float64\n",
      "Cabin          204 non-null object\n",
      "Embarked       889 non-null object\n",
      "dtypes: float64(2), int64(5), object(5)\n",
      "memory usage: 83.6+ KB\n"
     ]
    }
   ],
   "source": [
    "# 下面是我自己本地数据的路径, 你需要替换成自己电脑上数据的路径:\n",
    "train_path = '/tmp/train.csv'\n",
    "test_path = '/tmp/test.csv'\n",
    "df_test = pd.read_csv(test_path)\n",
    "df_train = pd.read_csv(train_path)\n",
    "df_train.info()"
   ]
  },
  {
   "cell_type": "markdown",
   "metadata": {},
   "source": [
    "### 2.1.1 整体查看"
   ]
  },
  {
   "cell_type": "code",
   "execution_count": 103,
   "metadata": {},
   "outputs": [
    {
     "data": {
      "text/html": [
       "<div>\n",
       "<style>\n",
       "    .dataframe thead tr:only-child th {\n",
       "        text-align: right;\n",
       "    }\n",
       "\n",
       "    .dataframe thead th {\n",
       "        text-align: left;\n",
       "    }\n",
       "\n",
       "    .dataframe tbody tr th {\n",
       "        vertical-align: top;\n",
       "    }\n",
       "</style>\n",
       "<table border=\"1\" class=\"dataframe\">\n",
       "  <thead>\n",
       "    <tr style=\"text-align: right;\">\n",
       "      <th></th>\n",
       "      <th>PassengerId</th>\n",
       "      <th>Survived</th>\n",
       "      <th>Pclass</th>\n",
       "      <th>Name</th>\n",
       "      <th>Sex</th>\n",
       "      <th>Age</th>\n",
       "      <th>SibSp</th>\n",
       "      <th>Parch</th>\n",
       "      <th>Ticket</th>\n",
       "      <th>Fare</th>\n",
       "      <th>Cabin</th>\n",
       "      <th>Embarked</th>\n",
       "    </tr>\n",
       "  </thead>\n",
       "  <tbody>\n",
       "    <tr>\n",
       "      <th>0</th>\n",
       "      <td>1</td>\n",
       "      <td>0</td>\n",
       "      <td>3</td>\n",
       "      <td>Braund, Mr. Owen Harris</td>\n",
       "      <td>male</td>\n",
       "      <td>22.0</td>\n",
       "      <td>1</td>\n",
       "      <td>0</td>\n",
       "      <td>A/5 21171</td>\n",
       "      <td>7.2500</td>\n",
       "      <td>NaN</td>\n",
       "      <td>S</td>\n",
       "    </tr>\n",
       "    <tr>\n",
       "      <th>1</th>\n",
       "      <td>2</td>\n",
       "      <td>1</td>\n",
       "      <td>1</td>\n",
       "      <td>Cumings, Mrs. John Bradley (Florence Briggs Th...</td>\n",
       "      <td>female</td>\n",
       "      <td>38.0</td>\n",
       "      <td>1</td>\n",
       "      <td>0</td>\n",
       "      <td>PC 17599</td>\n",
       "      <td>71.2833</td>\n",
       "      <td>C85</td>\n",
       "      <td>C</td>\n",
       "    </tr>\n",
       "    <tr>\n",
       "      <th>2</th>\n",
       "      <td>3</td>\n",
       "      <td>1</td>\n",
       "      <td>3</td>\n",
       "      <td>Heikkinen, Miss. Laina</td>\n",
       "      <td>female</td>\n",
       "      <td>26.0</td>\n",
       "      <td>0</td>\n",
       "      <td>0</td>\n",
       "      <td>STON/O2. 3101282</td>\n",
       "      <td>7.9250</td>\n",
       "      <td>NaN</td>\n",
       "      <td>S</td>\n",
       "    </tr>\n",
       "    <tr>\n",
       "      <th>3</th>\n",
       "      <td>4</td>\n",
       "      <td>1</td>\n",
       "      <td>1</td>\n",
       "      <td>Futrelle, Mrs. Jacques Heath (Lily May Peel)</td>\n",
       "      <td>female</td>\n",
       "      <td>35.0</td>\n",
       "      <td>1</td>\n",
       "      <td>0</td>\n",
       "      <td>113803</td>\n",
       "      <td>53.1000</td>\n",
       "      <td>C123</td>\n",
       "      <td>S</td>\n",
       "    </tr>\n",
       "    <tr>\n",
       "      <th>4</th>\n",
       "      <td>5</td>\n",
       "      <td>0</td>\n",
       "      <td>3</td>\n",
       "      <td>Allen, Mr. William Henry</td>\n",
       "      <td>male</td>\n",
       "      <td>35.0</td>\n",
       "      <td>0</td>\n",
       "      <td>0</td>\n",
       "      <td>373450</td>\n",
       "      <td>8.0500</td>\n",
       "      <td>NaN</td>\n",
       "      <td>S</td>\n",
       "    </tr>\n",
       "  </tbody>\n",
       "</table>\n",
       "</div>"
      ],
      "text/plain": [
       "   PassengerId  Survived  Pclass  \\\n",
       "0            1         0       3   \n",
       "1            2         1       1   \n",
       "2            3         1       3   \n",
       "3            4         1       1   \n",
       "4            5         0       3   \n",
       "\n",
       "                                                Name     Sex   Age  SibSp  \\\n",
       "0                            Braund, Mr. Owen Harris    male  22.0      1   \n",
       "1  Cumings, Mrs. John Bradley (Florence Briggs Th...  female  38.0      1   \n",
       "2                             Heikkinen, Miss. Laina  female  26.0      0   \n",
       "3       Futrelle, Mrs. Jacques Heath (Lily May Peel)  female  35.0      1   \n",
       "4                           Allen, Mr. William Henry    male  35.0      0   \n",
       "\n",
       "   Parch            Ticket     Fare Cabin Embarked  \n",
       "0      0         A/5 21171   7.2500   NaN        S  \n",
       "1      0          PC 17599  71.2833   C85        C  \n",
       "2      0  STON/O2. 3101282   7.9250   NaN        S  \n",
       "3      0            113803  53.1000  C123        S  \n",
       "4      0            373450   8.0500   NaN        S  "
      ]
     },
     "execution_count": 103,
     "metadata": {},
     "output_type": "execute_result"
    }
   ],
   "source": [
    "df_train.head()"
   ]
  },
  {
   "cell_type": "markdown",
   "metadata": {},
   "source": [
    "### 2.1.2 各属性分布"
   ]
  },
  {
   "cell_type": "markdown",
   "metadata": {},
   "source": [
    "** 连续值转离散 **"
   ]
  },
  {
   "cell_type": "code",
   "execution_count": 104,
   "metadata": {
    "collapsed": true
   },
   "outputs": [],
   "source": [
    "# 针对 Age 和 Fare, 进行连续值转离散操作, 实际操作上就是把值分段:\n",
    "import math\n",
    "def continueToGroup(df, column_name, group_num):\n",
    "    '''\n",
    "    df: DataFrame\n",
    "    column_name: 被分段的字段\n",
    "    group_num: 希望被划分的组数\n",
    "    '''\n",
    "    # 注意: pd.cut函数默认被分段的区间是左开右闭, 如: (0,10]\n",
    "    # 所以min需要略低一些, 这样不会漏数据\n",
    "    min_v = math.floor(df[column_name].min()) - 0.1\n",
    "    max_v = math.ceil(df[column_name].max()*1.0)  # math.ceil要求参数为float类型\n",
    "    step = math.ceil((max_v - min_v) / group_num)\n",
    "    \n",
    "    # 自己测试下 np.arange(0,10,1) 就会知道为啥 max_v+step 最后要加step\n",
    "    df[column_name+'_group'] = pd.cut(df[column_name], np.arange(min_v, max_v+step, step))\n",
    "\n",
    "# 连续值变离散 字段分组:\n",
    "continueToGroup(df_train, 'Fare', 5)\n",
    "continueToGroup(df_train, 'Age', 10)\n",
    "continueToGroup(df_test, 'Fare', 5)\n",
    "continueToGroup(df_test, 'Age', 10)"
   ]
  },
  {
   "cell_type": "markdown",
   "metadata": {},
   "source": [
    "** 各特征的分布** "
   ]
  },
  {
   "cell_type": "code",
   "execution_count": 105,
   "metadata": {},
   "outputs": [
    {
     "data": {
      "image/png": "[encoded data removed]",
      "text/plain": [
       "<matplotlib.figure.Figure at 0x7f781d9fac10>"
      ]
     },
     "metadata": {},
     "output_type": "display_data"
    }
   ],
   "source": [
    "# 字段包括: Survived, Sex, Pclass, Age_group, SibSp, Parch, Fare_group, Embarked\n",
    "# 每个单个绘图工作重复, 所以写个绘图函数, 批量绘图，刷刷刷! 分布看的一清二楚!\n",
    "def fun_distributed(df, column_name):\n",
    "    df_res = df.groupby(column_name).count()['PassengerId'].reset_index()\n",
    "    # 柱状图x轴仅接受float类型，如果要显示str的x轴标签，需要映射处理下\n",
    "    x_names = df_res[column_name].values\n",
    "    x_list = range(len(x_names))\n",
    "    plt.xticks(x_list, x_names, rotation=45)\n",
    "    \n",
    "    y_list = df_res['PassengerId'].values\n",
    "    plt.title(column_name)\n",
    "    plt.bar(x_list, y_list)\n",
    "    plt.legend()\n",
    "\n",
    "column_list = ['Survived', 'Pclass', 'Sex', 'Age_group','SibSp', 'Parch', 'Fare_group', 'Embarked']\n",
    "# 根据单个字段批量绘图\n",
    "def draw_all_columns(df, columns):\n",
    "    fig = plt.figure(figsize=(15,20))\n",
    "    for i in range(len(columns)):\n",
    "        plt.subplot(3,4,i+1)\n",
    "        fun_distributed(df, columns[i])\n",
    "    \n",
    "draw_all_columns(df_train, columns=column_list)"
   ]
  },
  {
   "cell_type": "markdown",
   "metadata": {},
   "source": [
    "** 各属性TGI指数查看 **"
   ]
  },
  {
   "cell_type": "code",
   "execution_count": 106,
   "metadata": {},
   "outputs": [
    {
     "data": {
      "image/png": "[encoded data removed]",
      "text/plain": [
       "<matplotlib.figure.Figure at 0x7f781d9d65d0>"
      ]
     },
     "metadata": {},
     "output_type": "display_data"
    }
   ],
   "source": [
    "# 计算平均幸存率\n",
    "survived_percent = 1.0*df_train.Survived[df_train.Survived==1].count() / df_train.Survived.count()\n",
    "\n",
    "# tgi比例计算\n",
    "def fun_tgi(df, column_name, scale=survived_percent):\n",
    "    df_res = df.groupby(['Survived', column_name]).count()['PassengerId'].reset_index()\n",
    "    df_pivot = pd.pivot_table(df_res, values='PassengerId', columns='Survived', index=column_name, aggfunc=np.sum)\n",
    "    df_pivot['total']=df_pivot[0] + df_pivot[1]\n",
    "    df_pivot['percent']=df_pivot[1]/df_pivot['total']\n",
    "    # 柱状图x轴仅接受float类型，如果要显示str的x轴标签，需要映射处理下\n",
    "    x_names = df_pivot.index.values\n",
    "    x_list = range(len(x_names))\n",
    "    plt.xticks(x_list, x_names, rotation=45)\n",
    "    \n",
    "    y_list = df_pivot['percent'] / scale\n",
    "    plt.title(column_name)\n",
    "    plt.bar(x_list, y_list)\n",
    "    plt.legend()\n",
    "\n",
    "column_list = ['Pclass', 'Sex', 'Age_group','SibSp', 'Parch', 'Fare_group', 'Embarked']\n",
    "# 根据单个字段批量绘图\n",
    "def draw_tgi_all_columns(df, columns):\n",
    "    fig = plt.figure(figsize=(15,20))\n",
    "    for i in range(len(columns)):\n",
    "        plt.subplot(3,4,i+1)\n",
    "        fun_tgi(df, columns[i])\n",
    "        \n",
    "draw_tgi_all_columns(df_train, column_list)"
   ]
  },
  {
   "cell_type": "markdown",
   "metadata": {},
   "source": [
    "### 2.1.3 空值处理"
   ]
  },
  {
   "cell_type": "code",
   "execution_count": 107,
   "metadata": {},
   "outputs": [],
   "source": [
    "# 批量检查空值\n",
    "def check_null(df):\n",
    "    for i in df.columns:\n",
    "        df_col = df[df[i].isnull()]\n",
    "        if df_col.size>0 and i != 'Cabin' and i != 'Age_group' and i!='Fare_group':\n",
    "            print(df_col)\n",
    "\n",
    "# 针对三个字段的空值进行填充\n",
    "# 填充方式很多, 这里按中位数填充\n",
    "df_train.Embarked.fillna('C', inplace=True)\n",
    "df_train.Fare.fillna(df_train.Fare.median(), inplace=True)\n",
    "df_train.Age.fillna(df_train.Age.median(), inplace=True)\n",
    "\n",
    "df_test.Embarked.fillna('C', inplace=True)\n",
    "df_test.Fare.fillna(df_test.Fare.median(), inplace=True)\n",
    "df_test.Age.fillna(df_test.Age.median(), inplace=True)\n",
    "\n",
    "# 检查空值处理后有误\n",
    "check_null(df_train)\n",
    "check_null(df_test)"
   ]
  },
  {
   "cell_type": "markdown",
   "metadata": {},
   "source": [
    "### 2.1.4 异常值查看"
   ]
  },
  {
   "cell_type": "code",
   "execution_count": 108,
   "metadata": {},
   "outputs": [
    {
     "data": {
      "image/png": "[encoded data removed]",
      "text/plain": [
       "<matplotlib.figure.Figure at 0x7f781da96ad0>"
      ]
     },
     "metadata": {},
     "output_type": "display_data"
    },
    {
     "data": {
      "image/png": "[encoded data removed]",
      "text/plain": [
       "<matplotlib.figure.Figure at 0x7f781dac1050>"
      ]
     },
     "metadata": {},
     "output_type": "display_data"
    }
   ],
   "source": [
    "# 查看Fare和Age两个连续值的箱图, 观看异常值分布\n",
    "df_train.Fare.plot(kind='box')\n",
    "plt.show()\n",
    "df_train.Age.plot(kind='box')\n",
    "plt.show()"
   ]
  },
  {
   "cell_type": "markdown",
   "metadata": {},
   "source": [
    "** 过滤掉异常值 **"
   ]
  },
  {
   "cell_type": "code",
   "execution_count": 109,
   "metadata": {},
   "outputs": [
    {
     "name": "stdout",
     "output_type": "stream",
     "text": [
      "<class 'pandas.core.frame.DataFrame'>\n",
      "Int64Index: 688 entries, 0 to 890\n",
      "Data columns (total 14 columns):\n",
      "PassengerId    688 non-null int64\n",
      "Survived       688 non-null int64\n",
      "Pclass         688 non-null int64\n",
      "Name           688 non-null object\n",
      "Sex            688 non-null object\n",
      "Age            688 non-null float64\n",
      "SibSp          688 non-null int64\n",
      "Parch          688 non-null int64\n",
      "Ticket         688 non-null object\n",
      "Fare           688 non-null float64\n",
      "Cabin          69 non-null object\n",
      "Embarked       688 non-null object\n",
      "Fare_group     688 non-null category\n",
      "Age_group      533 non-null category\n",
      "dtypes: category(2), float64(2), int64(5), object(5)\n",
      "memory usage: 71.4+ KB\n"
     ]
    }
   ],
   "source": [
    "df_train = df_train[(df_train.Age<=50) & (df_train.Fare<=50)]\n",
    "df_train.info()"
   ]
  },
  {
   "cell_type": "markdown",
   "metadata": {},
   "source": [
    "## 2.2 数据处理(特征处理)"
   ]
  },
  {
   "cell_type": "markdown",
   "metadata": {},
   "source": [
    "### 2.2.1 连续值转离散"
   ]
  },
  {
   "cell_type": "code",
   "execution_count": 110,
   "metadata": {},
   "outputs": [
    {
     "data": {
      "text/plain": [
       "'Age_group_toNum'"
      ]
     },
     "execution_count": 110,
     "metadata": {},
     "output_type": "execute_result"
    }
   ],
   "source": [
    "# 将连续值转化为Label\n",
    "import math\n",
    "def continueToGroup(df, column_name, group_num):\n",
    "    min_v = math.floor(df[column_name].min()) - 0.1\n",
    "    max_v = math.ceil(df[column_name].max()*1.0)\n",
    "    step = math.ceil((max_v - min_v) / group_num)\n",
    "    # 注意: 开闭区间, 所以min和max都要扩大才能cover所有值\n",
    "    df[column_name+'_group'] = pd.cut(df[column_name], np.arange(min_v, max_v+step, step))\n",
    " \n",
    "# 将离散Label转化为数字   \n",
    "from sklearn import preprocessing\n",
    "def groupToNum(df, column_name):\n",
    "    le = preprocessing.LabelEncoder()\n",
    "    le.fit(df[column_name])\n",
    "    new_column_name = column_name+'_toNum'\n",
    "    df[new_column_name] = le.transform(df[column_name])\n",
    "    return new_column_name\n",
    "\n",
    "# 连续值变离散 字段分组:\n",
    "continueToGroup(df_train, 'Fare', 5)\n",
    "continueToGroup(df_train, 'Age', 10)\n",
    "continueToGroup(df_test, 'Fare', 5)\n",
    "continueToGroup(df_test, 'Age', 10)\n",
    "\n",
    "# 开始操作\n",
    "groupToNum(df_train, 'Fare_group')\n",
    "groupToNum(df_train, 'Age_group')\n",
    "groupToNum(df_test, 'Fare_group')\n",
    "groupToNum(df_test, 'Age_group')"
   ]
  },
  {
   "cell_type": "markdown",
   "metadata": {},
   "source": [
    "### 2.2.2 分类别的离散值进行one-hot编码"
   ]
  },
  {
   "cell_type": "code",
   "execution_count": 111,
   "metadata": {
    "collapsed": true
   },
   "outputs": [],
   "source": [
    "# one-hot 编码\n",
    "def get_dummies_all(df, column_list):\n",
    "    res_list = []\n",
    "    for c in column_list:\n",
    "        res_list.append(pd.get_dummies(df[c], prefix= c))\n",
    "    return pd.concat(res_list, axis=1)\n",
    "\n",
    "c_list = ['Pclass', 'Sex']\n",
    "\n",
    "df_tmp = get_dummies_all(df_train, column_list=c_list)\n",
    "df_train = pd.concat([df_train, df_tmp], axis=1)\n",
    "\n",
    "df_tmp = get_dummies_all(df_test, column_list=c_list)\n",
    "df_test = pd.concat([ df_test, df_tmp] , axis=1)"
   ]
  },
  {
   "cell_type": "code",
   "execution_count": 112,
   "metadata": {},
   "outputs": [
    {
     "name": "stdout",
     "output_type": "stream",
     "text": [
      "(688, 21)\n",
      "(418, 20)\n"
     ]
    }
   ],
   "source": [
    "print(df_train.shape)\n",
    "print(df_test.shape)"
   ]
  },
  {
   "cell_type": "markdown",
   "metadata": {},
   "source": [
    "## 2.3 训练预测"
   ]
  },
  {
   "cell_type": "markdown",
   "metadata": {},
   "source": [
    "### 2.3.1 单个LR训练预测"
   ]
  },
  {
   "cell_type": "code",
   "execution_count": 113,
   "metadata": {},
   "outputs": [
    {
     "data": {
      "text/plain": [
       "0.79360465116279066"
      ]
     },
     "execution_count": 113,
     "metadata": {},
     "output_type": "execute_result"
    }
   ],
   "source": [
    "from sklearn.linear_model import LogisticRegression\n",
    "# 经过one hot 编码后的列名, 过滤要进入训练集的特征\n",
    "regex_str = 'Survived|Age_group_toNum.*|Fare_group_toNum.*|SibSp|Parch|Sex_.*male|Pclass_.*'\n",
    "df_train_filter = df_train.filter(regex=regex_str)\n",
    "df_test_filter = df_test.filter(regex=regex_str)\n",
    "\n",
    "X_train_list = df_train_filter.columns.values[2:]\n",
    "X_test_list = df_test_filter.columns.values[1:]\n",
    "# 生成训练数据\n",
    "X = df_train_filter[X_train_list]\n",
    "y = df_train_filter['Survived']\n",
    "# 待预测数据\n",
    "X_predict = df_test_filter[X_test_list]\n",
    "clf = LogisticRegression(random_state=0, solver='lbfgs', multi_class='multinomial').fit(X,y)\n",
    "# 自己先看下训练评分\n",
    "clf.score(X, y)"
   ]
  },
  {
   "cell_type": "markdown",
   "metadata": {},
   "source": [
    "### 2.3.2 抽样放回多次LR训练预测"
   ]
  },
  {
   "cell_type": "code",
   "execution_count": 114,
   "metadata": {},
   "outputs": [
    {
     "data": {
      "text/plain": [
       "0.21309536637931029"
      ]
     },
     "execution_count": 114,
     "metadata": {},
     "output_type": "execute_result"
    }
   ],
   "source": [
    "# BaggingRegressor, 即对训练数据抽样N次, 每次都用LR进行预测, 融合最终结果\n",
    "from sklearn.ensemble import BaggingRegressor\n",
    "clf = LogisticRegression(C=1.0, penalty='l1', tol=1e-6)\n",
    "bagging_clf = BaggingRegressor(clf, n_estimators=20, max_samples=0.5, max_features=1.0, bootstrap=True, bootstrap_features=True, n_jobs=1)\n",
    "bagging_clf.fit(X, y)\n",
    "# 含义: Returns the coefficient of determination R^2 of the prediction.\n",
    "bagging_clf.score(X, y)"
   ]
  },
  {
   "cell_type": "markdown",
   "metadata": {},
   "source": [
    "## 2.4 交叉验证"
   ]
  },
  {
   "cell_type": "markdown",
   "metadata": {},
   "source": [
    "### 2.4.1 交叉验证的分值"
   ]
  },
  {
   "cell_type": "code",
   "execution_count": 115,
   "metadata": {},
   "outputs": [
    {
     "name": "stdout",
     "output_type": "stream",
     "text": [
      "[ 0.79710145  0.77536232  0.80434783  0.7826087   0.83088235]\n"
     ]
    }
   ],
   "source": [
    "from sklearn.model_selection import cross_val_score\n",
    "regex_str = 'Survived|Age_group_toNum.*|Fare_group_toNum.*|SibSp|Parch|HasCabin_False|HasCabin_False|Sex_.*male|Pclass_.*|Mother_.*|isChild_.*|name2_Ms|name2_Mr|name2_Miss|Family.*'\n",
    "\n",
    "all_data = df_train_filter.filter(regex=regex_str)\n",
    "X = all_data.as_matrix()[:,1:]\n",
    "y = all_data.as_matrix()[:,0]\n",
    "clf = LogisticRegression(C=1.0, penalty='l1', tol=1e-6)\n",
    "print(cross_validation.cross_val_score(clf, X, y, cv=5))"
   ]
  },
  {
   "cell_type": "markdown",
   "metadata": {},
   "source": [
    "### 2.4.2 bad case分析"
   ]
  },
  {
   "cell_type": "code",
   "execution_count": 116,
   "metadata": {},
   "outputs": [
    {
     "data": {
      "text/html": [
       "<div>\n",
       "<style>\n",
       "    .dataframe thead tr:only-child th {\n",
       "        text-align: right;\n",
       "    }\n",
       "\n",
       "    .dataframe thead th {\n",
       "        text-align: left;\n",
       "    }\n",
       "\n",
       "    .dataframe tbody tr th {\n",
       "        vertical-align: top;\n",
       "    }\n",
       "</style>\n",
       "<table border=\"1\" class=\"dataframe\">\n",
       "  <thead>\n",
       "    <tr style=\"text-align: right;\">\n",
       "      <th></th>\n",
       "      <th>PassengerId</th>\n",
       "      <th>Survived</th>\n",
       "      <th>Pclass</th>\n",
       "      <th>Age</th>\n",
       "      <th>SibSp</th>\n",
       "      <th>Parch</th>\n",
       "      <th>Fare</th>\n",
       "    </tr>\n",
       "  </thead>\n",
       "  <tbody>\n",
       "    <tr>\n",
       "      <th>count</th>\n",
       "      <td>38.000000</td>\n",
       "      <td>38.000000</td>\n",
       "      <td>38.000000</td>\n",
       "      <td>29.000000</td>\n",
       "      <td>38.000000</td>\n",
       "      <td>38.000000</td>\n",
       "      <td>38.000000</td>\n",
       "    </tr>\n",
       "    <tr>\n",
       "      <th>mean</th>\n",
       "      <td>462.842105</td>\n",
       "      <td>0.447368</td>\n",
       "      <td>2.657895</td>\n",
       "      <td>25.000000</td>\n",
       "      <td>0.368421</td>\n",
       "      <td>0.605263</td>\n",
       "      <td>15.274563</td>\n",
       "    </tr>\n",
       "    <tr>\n",
       "      <th>std</th>\n",
       "      <td>280.729121</td>\n",
       "      <td>0.503897</td>\n",
       "      <td>0.627148</td>\n",
       "      <td>10.938138</td>\n",
       "      <td>0.674679</td>\n",
       "      <td>1.326232</td>\n",
       "      <td>9.818998</td>\n",
       "    </tr>\n",
       "    <tr>\n",
       "      <th>min</th>\n",
       "      <td>15.000000</td>\n",
       "      <td>0.000000</td>\n",
       "      <td>1.000000</td>\n",
       "      <td>1.000000</td>\n",
       "      <td>0.000000</td>\n",
       "      <td>0.000000</td>\n",
       "      <td>0.000000</td>\n",
       "    </tr>\n",
       "    <tr>\n",
       "      <th>25%</th>\n",
       "      <td>229.250000</td>\n",
       "      <td>0.000000</td>\n",
       "      <td>2.250000</td>\n",
       "      <td>20.000000</td>\n",
       "      <td>0.000000</td>\n",
       "      <td>0.000000</td>\n",
       "      <td>7.864600</td>\n",
       "    </tr>\n",
       "    <tr>\n",
       "      <th>50%</th>\n",
       "      <td>531.000000</td>\n",
       "      <td>0.000000</td>\n",
       "      <td>3.000000</td>\n",
       "      <td>25.000000</td>\n",
       "      <td>0.000000</td>\n",
       "      <td>0.000000</td>\n",
       "      <td>13.000000</td>\n",
       "    </tr>\n",
       "    <tr>\n",
       "      <th>75%</th>\n",
       "      <td>665.250000</td>\n",
       "      <td>1.000000</td>\n",
       "      <td>3.000000</td>\n",
       "      <td>29.000000</td>\n",
       "      <td>1.000000</td>\n",
       "      <td>0.750000</td>\n",
       "      <td>19.775000</td>\n",
       "    </tr>\n",
       "    <tr>\n",
       "      <th>max</th>\n",
       "      <td>890.000000</td>\n",
       "      <td>1.000000</td>\n",
       "      <td>3.000000</td>\n",
       "      <td>45.000000</td>\n",
       "      <td>3.000000</td>\n",
       "      <td>5.000000</td>\n",
       "      <td>39.687500</td>\n",
       "    </tr>\n",
       "  </tbody>\n",
       "</table>\n",
       "</div>"
      ],
      "text/plain": [
       "       PassengerId   Survived     Pclass        Age      SibSp      Parch  \\\n",
       "count    38.000000  38.000000  38.000000  29.000000  38.000000  38.000000   \n",
       "mean    462.842105   0.447368   2.657895  25.000000   0.368421   0.605263   \n",
       "std     280.729121   0.503897   0.627148  10.938138   0.674679   1.326232   \n",
       "min      15.000000   0.000000   1.000000   1.000000   0.000000   0.000000   \n",
       "25%     229.250000   0.000000   2.250000  20.000000   0.000000   0.000000   \n",
       "50%     531.000000   0.000000   3.000000  25.000000   0.000000   0.000000   \n",
       "75%     665.250000   1.000000   3.000000  29.000000   1.000000   0.750000   \n",
       "max     890.000000   1.000000   3.000000  45.000000   3.000000   5.000000   \n",
       "\n",
       "            Fare  \n",
       "count  38.000000  \n",
       "mean   15.274563  \n",
       "std     9.818998  \n",
       "min     0.000000  \n",
       "25%     7.864600  \n",
       "50%    13.000000  \n",
       "75%    19.775000  \n",
       "max    39.687500  "
      ]
     },
     "execution_count": 116,
     "metadata": {},
     "output_type": "execute_result"
    }
   ],
   "source": [
    "# 分割数据，按照 训练数据:cv数据 = 7:3的比例\n",
    "from sklearn.model_selection import train_test_split\n",
    "split_train, split_cv = train_test_split(df_train, test_size=0.3, random_state=0)\n",
    "regex_str = 'Survived|Age_group_toNum.*|Fare_group_toNum.*|SibSp|Parch|HasCabin_False|HasCabin_False|Sex_.*male|Pclass_.*'\n",
    "\n",
    "all_data = split_train.filter(regex=regex_str)\n",
    "all_data.head()\n",
    "# 生成模型\n",
    "clf = LogisticRegression(C=1.0, penalty='l1', tol=1e-6)\n",
    "clf.fit(all_data.as_matrix()[:,1:], all_data.as_matrix()[:,0])\n",
    "\n",
    "# 对cross validation数据进行预测\n",
    "cv_df = split_cv.filter(regex=regex_str)\n",
    "predictions = clf.predict(cv_df.as_matrix()[:,1:])\n",
    "\n",
    "origin_data_train = pd.read_csv(train_path)\n",
    "# split_cv[predictions != cv_df.as_matrix()[:,0]].head()\n",
    "# origin_data_train['PassengerId'].isin(split_cv[predictions != cv_df.as_matrix()[:,0]]['PassengerId'].values)\n",
    "bad_cases = origin_data_train.loc[origin_data_train['PassengerId'].isin(split_cv[predictions != cv_df.as_matrix()[:,0]]['PassengerId'].values)]\n",
    "bad_cases.describe()"
   ]
  },
  {
   "cell_type": "markdown",
   "metadata": {},
   "source": [
    "## 2.5 特征优化"
   ]
  },
  {
   "cell_type": "markdown",
   "metadata": {},
   "source": [
    "### 2.5.1 提取name中称谓词"
   ]
  },
  {
   "cell_type": "code",
   "execution_count": 117,
   "metadata": {
    "collapsed": true
   },
   "outputs": [],
   "source": [
    "# 提取姓名中的称谓: 如 Mr. Miss. 等\n",
    "df_train['name2'] = df_train.Name.apply(lambda x: x.split(\",\")[1].split('.')[0].strip())\n",
    "df_test['name2'] = df_test.Name.apply(lambda x: x.split(\",\")[1].split('.')[0].strip())"
   ]
  },
  {
   "cell_type": "markdown",
   "metadata": {},
   "source": [
    "### 2.5.2 提取Cabin数字"
   ]
  },
  {
   "cell_type": "code",
   "execution_count": 118,
   "metadata": {
    "collapsed": true
   },
   "outputs": [],
   "source": [
    "# 仓位Cabin虽然确实比较多, 但可以尝试用下仓位的数字部分\n",
    "# 标记是否缺失\n",
    "df_train['HasCabin'] =  df_train['Cabin'].isnull()\n",
    "df_test['HasCabin'] =  df_test['Cabin'].isnull()\n",
    "# 不缺失的值，取出其中数字部分\n",
    "import re\n",
    "p= re.compile(r\"[a-zA-Z ]\")\n",
    "pNum= re.compile(r\"[0-9]\")\n",
    "def chooseNumFromCabin(cabinStr):\n",
    "    if cabinStr is None:\n",
    "        return 0\n",
    "    try:\n",
    "        res = pNum.findall(str(cabinStr))\n",
    "    except TypeError:\n",
    "        print(cabinStr, type(cabinStr))\n",
    "    # 即: 如果字符串中没有数字直接返回0\n",
    "    if len(res)==0:\n",
    "        return 0\n",
    "    c_list = p.split(cabinStr)\n",
    "    c_list.sort(reverse=True)\n",
    "    return c_list[0]\n",
    "\n",
    "\n",
    "df_train['Cabin_No'] = df_train.Cabin.apply(lambda x: chooseNumFromCabin(x))\n",
    "df_train['Cabin_No'] = df_train.Cabin_No.astype('float')\n",
    "df_test['Cabin_No'] = df_test.Cabin.apply(lambda x: chooseNumFromCabin(x))\n",
    "df_test['Cabin_No'] = df_test.Cabin_No.astype('float')"
   ]
  },
  {
   "cell_type": "markdown",
   "metadata": {},
   "source": [
    "### 2.5.3 生成是否是孩子"
   ]
  },
  {
   "cell_type": "code",
   "execution_count": 119,
   "metadata": {
    "collapsed": true
   },
   "outputs": [],
   "source": [
    "df_train['isChild'] = df_train.Age<12\n",
    "df_test['isChild'] = df_test.Age<12"
   ]
  },
  {
   "cell_type": "markdown",
   "metadata": {},
   "source": [
    "### 2.5.3 生成是否是母亲"
   ]
  },
  {
   "cell_type": "code",
   "execution_count": 120,
   "metadata": {
    "collapsed": true
   },
   "outputs": [],
   "source": [
    "df_train['Mother'] = (df_train.Parch>1) & (df_train.name2=='Mrs')\n",
    "df_test['Mother'] = (df_test.Parch>1) & (df_test.name2=='Mrs')"
   ]
  },
  {
   "cell_type": "markdown",
   "metadata": {},
   "source": [
    "### 2.5.4 生成家庭成员数"
   ]
  },
  {
   "cell_type": "code",
   "execution_count": 121,
   "metadata": {
    "collapsed": true
   },
   "outputs": [],
   "source": [
    "df_train['Family_size'] = df_train.Parch + df_train.SibSp\n",
    "df_test['Family_size'] = df_test.Parch + df_test.SibSp"
   ]
  },
  {
   "cell_type": "markdown",
   "metadata": {},
   "source": [
    "### 2.5.5 重新抽取特征预测"
   ]
  },
  {
   "cell_type": "code",
   "execution_count": 122,
   "metadata": {},
   "outputs": [
    {
     "data": {
      "text/plain": [
       "0.8066860465116279"
      ]
     },
     "execution_count": 122,
     "metadata": {},
     "output_type": "execute_result"
    }
   ],
   "source": [
    "c_list = ['Pclass', 'Sex', 'name2', 'HasCabin', 'Mother', 'isChild']\n",
    "\n",
    "df_tmp = get_dummies_all(df_train, column_list=c_list)\n",
    "df_train_filter = pd.concat([df_train, df_tmp], axis=1)\n",
    "\n",
    "df_tmp = get_dummies_all(df_test, column_list=c_list)\n",
    "df_test_filter = pd.concat([ df_test, df_tmp] , axis=1)\n",
    "\n",
    "regex_str = 'Survived|Age_group_toNum.*|Fare_group_toNum.*|SibSp|Parch|HasCabin_False|HasCabin_False|Sex_.*male|Pclass_.*|Mother_.*|isChild_.*|name2_Ms|name2_Mr|name2_Miss|Family.*'\n",
    "all_data = df_train.filter(regex=regex_str)\n",
    "X =  all_data.as_matrix()[:,1:]\n",
    "y = all_data.as_matrix()[:,0]\n",
    "X_predict = df_test.filter(regex=regex_str)\n",
    "\n",
    "\n",
    "clf = LogisticRegression(random_state=0, solver='lbfgs', multi_class='multinomial').fit(X,y)\n",
    "clf.score(X, y)"
   ]
  },
  {
   "cell_type": "code",
   "execution_count": 123,
   "metadata": {},
   "outputs": [
    {
     "data": {
      "text/plain": [
       "0.25251423953201968"
      ]
     },
     "execution_count": 123,
     "metadata": {},
     "output_type": "execute_result"
    }
   ],
   "source": [
    "# BaggingRegressor, 即对训练数据抽样N次, 每次都用LR进行预测, 融合最终结果\n",
    "from sklearn.ensemble import BaggingRegressor\n",
    "clf = LogisticRegression(C=1.0, penalty='l1', tol=1e-6)\n",
    "bagging_clf = BaggingRegressor(clf, n_estimators=20, max_samples=0.5, max_features=1.0, bootstrap=True, bootstrap_features=True, n_jobs=1)\n",
    "bagging_clf.fit(X, y)\n",
    "# 含义: Returns the coefficient of determination R^2 of the prediction.\n",
    "bagging_clf.score(X, y)"
   ]
  },
  {
   "cell_type": "markdown",
   "metadata": {},
   "source": [
    "# 3. 特别感谢\n",
    "[寒小阳:机器学习系列(3)_逻辑回归应用之Kaggle泰坦尼克之灾](https://blog.csdn.net/han_xiaoyang/article/details/49797143)"
   ]
  },
  {
   "cell_type": "markdown",
   "metadata": {},
   "source": [
    "# 4.关于自己"
   ]
  },
  {
   "cell_type": "markdown",
   "metadata": {},
   "source": [
    "- 微信公众号: workindata\n",
    "- 个人微信号: ITlooker\n",
    "- 知乎: https://zhuanlan.zhihu.com/ITlooker"
   ]
  }
 ],
 "metadata": {
  "kernelspec": {
   "display_name": "Python 2",
   "language": "python",
   "name": "python2"
  },
  "language_info": {
   "codemirror_mode": {
    "name": "ipython",
    "version": 2
   },
   "file_extension": ".py",
   "mimetype": "text/x-python",
   "name": "python",
   "nbconvert_exporter": "python",
   "pygments_lexer": "ipython2",
   "version": "2.7.6"
  }
 },
 "nbformat": 4,
 "nbformat_minor": 2
}
